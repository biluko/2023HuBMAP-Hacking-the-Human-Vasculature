{
 "metadata": {
  "kernelspec": {
   "language": "python",
   "display_name": "Python 3",
   "name": "python3"
  },
  "language_info": {
   "pygments_lexer": "ipython3",
   "nbconvert_exporter": "python",
   "version": "3.6.4",
   "file_extension": ".py",
   "codemirror_mode": {
    "name": "ipython",
    "version": 3
   },
   "name": "python",
   "mimetype": "text/x-python"
  }
 },
 "nbformat_minor": 4,
 "nbformat": 4,
 "cells": [
  {
   "cell_type": "code",
   "source": "!nvidia-smi",
   "metadata": {
    "execution": {
     "iopub.status.busy": "2023-07-26T02:58:33.983791Z",
     "iopub.execute_input": "2023-07-26T02:58:33.984221Z",
     "iopub.status.idle": "2023-07-26T02:58:35.128870Z",
     "shell.execute_reply.started": "2023-07-26T02:58:33.984156Z",
     "shell.execute_reply": "2023-07-26T02:58:35.127547Z"
    },
    "trusted": true
   },
   "execution_count": null,
   "outputs": []
  },
  {
   "cell_type": "code",
   "source": [
    "!pip install --no-index --no-deps /kaggle/input/mmdetectron-31-wheel/einops-0.6.1-py3-none-any.whl\n",
    "!pip install --no-index --no-deps /kaggle/input/mmdetectron-31-wheel/model_index-0.1.11-py3-none-any.whl\n",
    "!pip install --no-index --no-deps /kaggle/input/mmdetectron-31-wheel/modelindex-0.0.2-py3-none-any.whl\n",
    "!pip install --no-index --no-deps /kaggle/input/mmdetectron-31-wheel/ordered_set-4.1.0-py3-none-any.whl\n",
    "!pip install --no-index --no-deps /kaggle/input/mmdetectron-31-wheel/mat4py-0.5.0-py2.py3-none-any.whl\n",
    "!pip install --no-index --no-deps /kaggle/input/mmdetectron-31-wheel/pycocotools-2.0.6-cp310-cp310-linux_x86_64.whl\n",
    "!pip install --no-index --no-deps /kaggle/input/mmdetectron-31-wheel/torch-1.12.1+cu116-cp310-cp310-linux_x86_64.whl\n",
    "!pip install --no-index --no-deps /kaggle/input/mmdetectron-31-wheel/torchvision-0.13.1+cu116-cp310-cp310-linux_x86_64.whl\n",
    "!pip install --no-index --no-deps /kaggle/input/mmdetectron-31-wheel/mmcv-2.0.1-cp310-cp310-manylinux1_x86_64.whl \n",
    "!pip install --no-index --no-deps /kaggle/input/mmdetectron-31-wheel/openmim-0.3.9-py2.py3-none-any.whl\n",
    "!pip install --no-index --no-deps /kaggle/input/mmdetectron-31-wheel/mmengine-0.8.1-py3-none-any.whl\n",
    "!pip install --no-index --no-deps /kaggle/input/mmdetectron-31-wheel/addict-2.4.0-py3-none-any.whl\n",
    "!pip install --no-index --no-deps /kaggle/input/mmdetectron-31-wheel/mmdet-3.1.0-py3-none-any.whl\n",
    "!pip install --no-index --no-deps /kaggle/input/mmdetectron-31-wheel/terminaltables-3.1.10-py2.py3-none-any.whl\n",
    "!pip install --no-index --no-deps /kaggle/input/mmdetectron-31-wheel/mmpretrain-1.0.0-py2.py3-none-any.whl"
   ],
   "metadata": {
    "execution": {
     "iopub.status.busy": "2023-07-26T02:58:35.131398Z",
     "iopub.execute_input": "2023-07-26T02:58:35.135343Z",
     "iopub.status.idle": "2023-07-26T02:58:48.943672Z",
     "shell.execute_reply.started": "2023-07-26T02:58:35.135297Z",
     "shell.execute_reply": "2023-07-26T02:58:48.942489Z"
    },
    "trusted": true
   },
   "execution_count": null,
   "outputs": []
  },
  {
   "cell_type": "code",
   "source": "!cp -r /kaggle/input/ensemble-boxes-104 ./\n!pip install ./ensemble-boxes-104/ensemble_boxes-1.0.4/ ",
   "metadata": {
    "execution": {
     "iopub.status.busy": "2023-07-26T03:00:36.680374Z",
     "iopub.execute_input": "2023-07-26T03:00:36.681196Z",
     "iopub.status.idle": "2023-07-26T03:01:11.883172Z",
     "shell.execute_reply.started": "2023-07-26T03:00:36.681143Z",
     "shell.execute_reply": "2023-07-26T03:01:11.881996Z"
    },
    "trusted": true
   },
   "execution_count": null,
   "outputs": []
  },
  {
   "cell_type": "markdown",
   "source": "### Importing Libraries",
   "metadata": {}
  },
  {
   "cell_type": "code",
   "source": [
    "from itertools import groupby\n",
    "from pycocotools import mask as mutils\n",
    "from pycocotools.coco import COCO\n",
    "import numpy as np\n",
    "from tqdm.notebook import tqdm\n",
    "import pandas as pd\n",
    "import os\n",
    "import cv2, glob\n",
    "import matplotlib.pyplot as plt\n",
    "import wandb\n",
    "from PIL import Image\n",
    "import gc\n",
    "sample = None\n",
    "import mmcv\n",
    "from glob import glob\n",
    "import matplotlib.pyplot as plt\n",
    "from mmdet.apis import init_detector, inference_detector\n",
    "from ensemble_boxes import *\n",
    "import torch, torchvision\n",
    "print(torch.__version__, torch.cuda.is_available())\n",
    "import mmdet as mmdet\n",
    "print(mmdet.__version__)\n",
    "from mmcv.ops import get_compiling_cuda_version, get_compiler_version\n",
    "print(get_compiling_cuda_version())\n",
    "print(get_compiler_version())\n",
    "device = torch.device('cuda') if torch.cuda.is_available() else torch.device('cpu')\n",
    "import base64\n",
    "from pycocotools import _mask as coco_mask\n",
    "import typing as t\n",
    "import zlib\n",
    "from mmdet.apis import init_detector, inference_detector\n",
    "from mmengine.config import Config"
   ],
   "metadata": {
    "execution": {
     "iopub.status.busy": "2023-07-26T03:01:11.885157Z",
     "iopub.execute_input": "2023-07-26T03:01:11.885940Z",
     "iopub.status.idle": "2023-07-26T03:01:19.292422Z",
     "shell.execute_reply.started": "2023-07-26T03:01:11.885895Z",
     "shell.execute_reply": "2023-07-26T03:01:19.291396Z"
    },
    "trusted": true
   },
   "execution_count": null,
   "outputs": []
  },
  {
   "cell_type": "markdown",
   "source": "### Function",
   "metadata": {}
  },
  {
   "cell_type": "code",
   "source": [
    "def encode_binary_mask(mask: np.ndarray) -> t.Text:\n",
    "  \"\"\"Converts a binary mask into OID challenge encoding ascii text.\"\"\"\n",
    "\n",
    "  # check input mask --\n",
    "  if mask.dtype != np.bool:\n",
    "    raise ValueError(\n",
    "        \"encode_binary_mask expects a binary mask, received dtype == %s\" %\n",
    "        mask.dtype)\n",
    "\n",
    "  mask = np.squeeze(mask)\n",
    "  if len(mask.shape) != 2:\n",
    "    raise ValueError(\n",
    "        \"encode_binary_mask expects a 2d mask, received shape == %s\" %\n",
    "        mask.shape)\n",
    "\n",
    "  # convert input mask to expected COCO API input --\n",
    "  mask_to_encode = mask.reshape(mask.shape[0], mask.shape[1], 1)\n",
    "  mask_to_encode = mask_to_encode.astype(np.uint8)\n",
    "  mask_to_encode = np.asfortranarray(mask_to_encode)\n",
    "\n",
    "  # RLE encode mask --\n",
    "  encoded_mask = coco_mask.encode(mask_to_encode)[0][\"counts\"]\n",
    "\n",
    "  # compress and base64 encoding --\n",
    "  binary_str = zlib.compress(encoded_mask, zlib.Z_BEST_COMPRESSION)\n",
    "  base64_str = base64.b64encode(binary_str)\n",
    "  return base64_str\n",
    "\n",
    "def remove_overlapping_pixels(mask, other_masks):\n",
    "    for other_mask in other_masks:\n",
    "        if np.sum(np.logical_and(mask, other_mask)) > 0:\n",
    "            mask[np.logical_and(mask, other_mask)] = 0\n",
    "    return mask\n",
    "\n",
    "def combine_masks(masks, mask_threshold):\n",
    "    \"\"\"\n",
    "    combine masks into one image\n",
    "    \"\"\"\n",
    "    maskimg = np.zeros((HEIGHT, WIDTH))\n",
    "    # print(len(masks.shape), masks.shape)\n",
    "    for m, mask in enumerate(masks,1):\n",
    "        maskimg[mask>mask_threshold] = m\n",
    "    return maskimg"
   ],
   "metadata": {
    "execution": {
     "iopub.status.busy": "2023-07-26T03:01:19.429550Z",
     "iopub.execute_input": "2023-07-26T03:01:19.430411Z",
     "iopub.status.idle": "2023-07-26T03:01:19.442269Z",
     "shell.execute_reply.started": "2023-07-26T03:01:19.430369Z",
     "shell.execute_reply": "2023-07-26T03:01:19.440977Z"
    },
    "trusted": true
   },
   "execution_count": null,
   "outputs": []
  },
  {
   "cell_type": "markdown",
   "source": "### Test Dataset and DataLoader",
   "metadata": {}
  },
  {
   "cell_type": "code",
   "source": "all_imgs = glob('D:/CodeProject/HuBMAP2023/Data/test/*.tif')",
   "metadata": {
    "execution": {
     "iopub.status.busy": "2023-07-26T03:01:19.443822Z",
     "iopub.execute_input": "2023-07-26T03:01:19.444269Z",
     "iopub.status.idle": "2023-07-26T03:01:19.467349Z",
     "shell.execute_reply.started": "2023-07-26T03:01:19.444234Z",
     "shell.execute_reply": "2023-07-26T03:01:19.466350Z"
    }
   },
   "execution_count": null,
   "outputs": []
  },
  {
   "cell_type": "markdown",
   "source": "df = pd.read_csv('/kaggle/input/hubmap-hacking-the-human-vasculature/tile_meta.csv')\nvalid_ids = df.query('dataset == 1')['id']  \nall_imgs = sorted(list('/kaggle/input/hubmap-hacking-the-human-vasculature/train/'+valid_ids+'.tif'))",
   "metadata": {}
  },
  {
   "cell_type": "markdown",
   "source": "### Model",
   "metadata": {}
  },
  {
   "cell_type": "code",
   "source": [
    "config_file = 'D:/CodeProject/HuBMAP2023/SwinTransformer-config.py'\n",
    "checkpoint_file = 'D:/CodeProject/HuBMAP2023/Data/work_dirs/SwinTransformer-config/best_coco_segm_mAP_epoch_4.pth'\n",
    "\n",
    "cfg = Config.fromfile(config_file )\n",
    "SwinTransformer = init_detector(cfg, checkpoint_file, device=device)"
   ],
   "metadata": {
    "execution": {
     "iopub.status.busy": "2023-07-26T03:02:04.045220Z",
     "iopub.execute_input": "2023-07-26T03:02:04.045680Z",
     "iopub.status.idle": "2023-07-26T03:02:12.117862Z",
     "shell.execute_reply.started": "2023-07-26T03:02:04.045646Z",
     "shell.execute_reply": "2023-07-26T03:02:12.116852Z"
    },
    "trusted": true
   },
   "execution_count": null,
   "outputs": []
  },
  {
   "cell_type": "code",
   "source": [
    "config_file = 'D:/CodeProject/HuBMAP2023/Convext-xlarge-config.py'\n",
    "checkpoint_file = 'D:/CodeProject/HuBMAP2023/Data/work_dirs/Convext-xlarge-config/best_coco_segm_mAP_epoch_4.pth'\n",
    "\n",
    "cfg = Config.fromfile(config_file )\n",
    "\n",
    "Convext_v1_l = init_detector(cfg, checkpoint_file, device=device)"
   ],
   "metadata": {
    "execution": {
     "iopub.status.busy": "2023-07-26T03:02:12.119492Z",
     "iopub.execute_input": "2023-07-26T03:02:12.119867Z",
     "iopub.status.idle": "2023-07-26T03:02:21.250359Z",
     "shell.execute_reply.started": "2023-07-26T03:02:12.119832Z",
     "shell.execute_reply": "2023-07-26T03:02:21.249211Z"
    },
    "trusted": true
   },
   "execution_count": null,
   "outputs": []
  },
  {
   "cell_type": "code",
   "source": [
    "config_file = 'D:/CodeProject/HuBMAP2023/EfficientNet-b8-config.py'\n",
    "checkpoint_file = 'D:/CodeProject/HuBMAP2023/Data/work_dirs/EfficientNet-b8-config/best_coco_segm_mAP_epoch_4.pth'\n",
    "\n",
    "cfg = Config.fromfile(config_file )\n",
    "EfficientNet_b8 = init_detector(cfg, checkpoint_file, device=device)"
   ],
   "metadata": {},
   "execution_count": null,
   "outputs": []
  },
  {
   "cell_type": "code",
   "source": [
    "config = {\n",
    "    'effb8':{#0.523\n",
    "        'scale':[(1024, 1024),(960, 960)],\n",
    "        'mask_thr_binary':0.5,\n",
    "        'weight':0.3, \n",
    "        'model':EfficientNet_b8,\n",
    "    },\n",
    "    'convext_xl_1':{#0.5523\n",
    "        'scale':[(1024, 1024),(960, 960)],\n",
    "        'mask_thr_binary':0.56,\n",
    "        'weight':0.6,   \n",
    "        'model':Convext_v1_l,\n",
    "    },\n",
    "    'swin_3':{#0.5866\n",
    "        'scale':[(1440, 1440),(1024, 1024),(1280, 1280),],\n",
    "        'mask_thr_binary':0.56,\n",
    "        'weight':1.0,   \n",
    "        'model':SwinTransformer,\n",
    "    },\n",
    "}"
   ],
   "metadata": {},
   "execution_count": null,
   "outputs": []
  },
  {
   "cell_type": "markdown",
   "source": "### Predicting",
   "metadata": {}
  },
  {
   "cell_type": "code",
   "source": "mask_threshold_dict = {1: 0.3, 0: 0.99, 2:  0.80}\nmin_score_dict = {1: 0.01, 0: 0.99, 2: 0.80}",
   "metadata": {
    "execution": {
     "iopub.status.busy": "2023-07-26T03:02:21.251812Z",
     "iopub.execute_input": "2023-07-26T03:02:21.252473Z",
     "iopub.status.idle": "2023-07-26T03:02:21.257615Z",
     "shell.execute_reply.started": "2023-07-26T03:02:21.252435Z",
     "shell.execute_reply": "2023-07-26T03:02:21.256649Z"
    },
    "trusted": true
   },
   "execution_count": null,
   "outputs": []
  },
  {
   "cell_type": "code",
   "source": "import random\ndef plot_one_box(x, img, color=None, label=None, line_thickness=None):\n    # Plots one bounding box on image img\n    tl = line_thickness or round(0.002 * (img.shape[0] + img.shape[1]) / 2) + 1  # line/font thickness\n    color = color or [random.randint(0, 255) for _ in range(3)]\n    c1, c2 = (int(x[0]), int(x[1])), (int(x[2]), int(x[3]))\n    cv2.rectangle(img, c1, c2, color, thickness=tl, lineType=cv2.LINE_AA)\n    if label:\n        tf = max(tl - 1, 1)  # font thickness\n        t_size = cv2.getTextSize(label, 0, fontScale=tl / 3, thickness=tf)[0]\n        c2 = c1[0] + t_size[0], c1[1] - t_size[1] - 3\n        cv2.rectangle(img, c1, c2, color, -1, cv2.LINE_AA)  # filled\n        cv2.putText(img, label, (c1[0], c1[1] - 2), 0, tl / 3, [225, 255, 255], thickness=tf, lineType=cv2.LINE_AA)",
   "metadata": {
    "execution": {
     "iopub.status.busy": "2023-07-26T03:02:21.258852Z",
     "iopub.execute_input": "2023-07-26T03:02:21.259578Z",
     "iopub.status.idle": "2023-07-26T03:02:21.273836Z",
     "shell.execute_reply.started": "2023-07-26T03:02:21.259545Z",
     "shell.execute_reply": "2023-07-26T03:02:21.272771Z"
    },
    "trusted": true
   },
   "execution_count": null,
   "outputs": []
  },
  {
   "cell_type": "code",
   "source": "def draw_bboxes(img_draw, bboxes, classes, class_ids, colors = None, show_classes = None, bbox_format = 'voc_pascal', class_name = False, line_thickness = 2):\n\n    image = img_draw.copy()\n    show_classes = classes if show_classes is None else show_classes\n    colors = (0, 255 ,0) if colors is None else colors\n\n    if bbox_format == 'yolo':\n\n        for idx in range(len(bboxes)):\n\n            bbox  = bboxes[idx]\n            cls   = classes[idx]\n            cls_id = class_ids[idx]\n            color = colors[cls_id] if type(colors) is list else colors\n\n            if cls in show_classes:\n\n                x1 = round(float(bbox[0])*image.shape[1])\n                y1 = round(float(bbox[1])*image.shape[0])\n                w  = round(float(bbox[2])*image.shape[1]/2) #w/2\n                h  = round(float(bbox[3])*image.shape[0]/2)\n\n                voc_bbox = (x1-w, y1-h, x1+w, y1+h)\n                plot_one_box(voc_bbox,\n                             image,\n                             color = color,\n                             label = cls if class_name else str(get_label(cls)),\n                             line_thickness = line_thickness)\n    elif bbox_format == 'voc_pascal':\n\n        for idx in range(len(bboxes)):\n\n            bbox  = bboxes[idx]\n            cls   = classes[idx]\n            cls_id = class_ids[idx]\n            color = colors[cls_id] if type(colors) is list else colors\n\n            if cls in show_classes:\n                x1 = int(round(bbox[0]))\n                y1 = int(round(bbox[1]))\n                x2 = int(round(bbox[2]))\n                y2 = int(round(bbox[3]))\n                voc_bbox = (x1, y1, x2, y2)\n                plot_one_box(voc_bbox,\n                             image,\n                             color = color,\n                             label = cls if class_name else str(cls_id),\n                             line_thickness = line_thickness)\n    else:\n        raise ValueError('wrong bbox format')\n\n    return image",
   "metadata": {
    "execution": {
     "iopub.status.busy": "2023-07-26T03:02:21.275186Z",
     "iopub.execute_input": "2023-07-26T03:02:21.275700Z",
     "iopub.status.idle": "2023-07-26T03:02:21.292849Z",
     "shell.execute_reply.started": "2023-07-26T03:02:21.275664Z",
     "shell.execute_reply": "2023-07-26T03:02:21.291812Z"
    },
    "trusted": true
   },
   "execution_count": null,
   "outputs": []
  },
  {
   "cell_type": "code",
   "source": "def show_img(img_draw, bboxes, bbox_format='voc_pascal', bbox_colors = None):\n    names  = ['blood']*len(bboxes)\n    labels = [0]*len(bboxes)\n    img_draw    = draw_bboxes(img_draw = img_draw,\n                           bboxes = bboxes,\n                           classes = names,\n                           class_ids = labels,\n                           class_name = True,\n                           colors = colors if bbox_colors is None else bbox_colors,\n                           bbox_format = bbox_format,\n                           line_thickness = 2)\n    return Image.fromarray(img_draw).resize((512, 512))",
   "metadata": {
    "execution": {
     "iopub.status.busy": "2023-07-26T03:02:21.294099Z",
     "iopub.execute_input": "2023-07-26T03:02:21.294917Z",
     "iopub.status.idle": "2023-07-26T03:02:21.310179Z",
     "shell.execute_reply.started": "2023-07-26T03:02:21.294882Z",
     "shell.execute_reply": "2023-07-26T03:02:21.309228Z"
    },
    "trusted": true
   },
   "execution_count": null,
   "outputs": []
  },
  {
   "cell_type": "code",
   "source": "def nms_predictions(classes, scores, bboxes, masks, \n                    iou_th=.7, shape=(512, 512)):\n    he, wd = shape[0], shape[1]\n    boxes_list = [[[x[0] / wd, x[1] / he, x[2] / wd, x[3] / he] for x in bboxes]]\n    scores_list = [[x for x in scores]]\n    classes_list = [[x for x in classes]]\n    nms_bboxes, nms_scores, nms_classes = non_maximum_weighted(\n        boxes_list, \n        scores_list, \n        classes_list, \n        weights=None,\n        iou_thr=iou_th,skip_box_thr=0.01\n    )\n    nms_masks = []\n    for s in nms_scores:\n        nms_masks.append(masks[scores.index(s)])\n    #nms_scores, nms_classes, nms_masks, nms_bboxes = zip(*sorted(zip(nms_scores, nms_classes, nms_masks, nms_bboxes), reverse=True))\n    return nms_classes, nms_scores, nms_masks, nms_bboxes",
   "metadata": {
    "execution": {
     "iopub.status.busy": "2023-07-26T03:02:21.312674Z",
     "iopub.execute_input": "2023-07-26T03:02:21.313447Z",
     "iopub.status.idle": "2023-07-26T03:02:21.328277Z",
     "shell.execute_reply.started": "2023-07-26T03:02:21.313414Z",
     "shell.execute_reply": "2023-07-26T03:02:21.327176Z"
    },
    "trusted": true
   },
   "execution_count": null,
   "outputs": []
  },
  {
   "cell_type": "code",
   "source": [
    "ids = []\n",
    "heights = []\n",
    "widths = []\n",
    "prediction_strings = []\n",
    "outkeys = [\"bboxes\", \"masks\", \"labels\", \"scores\"]\n",
    "#predition = defaultdict()\n",
    "for img in tqdm(all_imgs):\n",
    "    img_array = mmcv.imread(img, channel_order='rgb')\n",
    "    [h, w, c] = img_array.shape\n",
    "    img_mask = []\n",
    "    img_bboxes = []\n",
    "    img_scores = []\n",
    "    img_labels = []\n",
    "    for d in config:\n",
    "        model = config[d]['model']\n",
    "        model.cfg.model.test_cfg.rcnn.mask_thr_binary = config[d]['mask_thr_binary']\n",
    "        model.cfg.model.test_cfg.rcnn.score_thr = 0.01\n",
    "        masks_list = []\n",
    "        bboxes_list = []\n",
    "        scores_list = []\n",
    "        labels_list = []\n",
    "        for scale in config[d]['scale']:\n",
    "            model.cfg.test_dataloader.dataset.pipeline[1]['scale'] = scale\n",
    "            pred = inference_detector(model, img_array)\n",
    "            pred_dict = {k:pred.pred_instances[k] for k in outkeys}\n",
    "            masks_list.append(pred_dict['masks'])\n",
    "            bboxes_list.append(pred_dict['bboxes'])\n",
    "            scores_list.append(pred_dict['scores']*config[d]['weight'])\n",
    "\n",
    "            labels_list.append(pred_dict['labels'])\n",
    "\n",
    "        masks = torch.cat(masks_list).cpu().numpy()\n",
    "        bboxes = torch.cat(bboxes_list).cpu().numpy()\n",
    "        scores = torch.cat(scores_list).cpu().numpy()\n",
    "        labels = torch.cat(labels_list).cpu().numpy()\n",
    "\n",
    "        masks = masks[labels==1]\n",
    "        bboxes = bboxes[labels==1]\n",
    "        scores = scores[labels==1]\n",
    "        labels = labels[labels==1]\n",
    "\n",
    "        nms_classes, nms_scores, nms_masks, nms_bboxes = nms_predictions(labels, list(scores), bboxes, masks, iou_th=0.58)\n",
    "        img_mask.append(nms_masks)\n",
    "        img_bboxes.append(nms_bboxes)\n",
    "        img_scores.append(nms_scores)\n",
    "        img_labels.append(nms_classes)\n",
    "    masks = np.concatenate(img_mask)\n",
    "    bboxes = np.concatenate(img_bboxes)\n",
    "    scores = np.concatenate(img_scores)\n",
    "    labels = np.concatenate(img_labels)\n",
    "    nms_classes, nms_scores, nms_masks, nms_bboxes = nms_predictions(labels, list(scores), bboxes, masks, iou_th=0.72)\n",
    "    pred_string=\"\"\n",
    "    m = 0\n",
    "    for i, mask in enumerate(nms_masks):\n",
    "        # Filter-out low-scoring results.\n",
    "        score = nms_scores[i]\n",
    "        label = nms_classes[i]\n",
    "\n",
    "        binary_mask = mask > 0.5\n",
    "\n",
    "        #dilation\n",
    "        binary_mask = binary_mask.astype(np.uint8)\n",
    "        kernel = np.ones(shape=(3, 3), dtype=np.uint8)\n",
    "        binary_mask = cv2.dilate(binary_mask, kernel, iterations=1)\n",
    "\n",
    "        binary_mask = binary_mask.astype(bool)\n",
    "\n",
    "\n",
    "        encoded = encode_binary_mask(binary_mask)\n",
    "        #if label != 1: continue\n",
    "        if m == 0:\n",
    "            pred_string += f\"0 {score} {encoded.decode('utf-8')}\"\n",
    "            m = m+1\n",
    "        else:\n",
    "            pred_string += f\" 0 {score} {encoded.decode('utf-8')}\"\n",
    "        #print(pred_classes[i])\n",
    "\n",
    "    ids.append(str(img).split('.')[0].split('/')[-1])\n",
    "    heights.append(h)\n",
    "    widths.append(w)\n",
    "    prediction_strings.append(pred_string)\n",
    "\n",
    "submission = pd.DataFrame()\n",
    "submission['id'] = ids\n",
    "submission['height'] = heights\n",
    "submission['width'] = widths\n",
    "submission['prediction_string'] = prediction_strings\n",
    "submission = submission.set_index('id')\n",
    "submission.to_csv(\"submission.csv\")\n",
    "submission.head()"
   ],
   "metadata": {
    "execution": {
     "iopub.status.busy": "2023-07-26T03:02:21.330075Z",
     "iopub.execute_input": "2023-07-26T03:02:21.330426Z",
     "iopub.status.idle": "2023-07-26T03:02:26.724651Z",
     "shell.execute_reply.started": "2023-07-26T03:02:21.330394Z",
     "shell.execute_reply": "2023-07-26T03:02:26.723575Z"
    },
    "trusted": true
   },
   "execution_count": null,
   "outputs": []
  }
 ]
}
