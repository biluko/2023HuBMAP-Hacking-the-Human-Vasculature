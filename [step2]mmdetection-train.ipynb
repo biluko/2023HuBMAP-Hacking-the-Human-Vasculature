{
 "metadata": {
  "kernelspec": {
   "language": "python",
   "display_name": "Python 3",
   "name": "python3"
  },
  "language_info": {
   "pygments_lexer": "ipython3",
   "nbconvert_exporter": "python",
   "version": "3.6.4",
   "file_extension": ".py",
   "codemirror_mode": {
    "name": "ipython",
    "version": 3
   },
   "name": "python",
   "mimetype": "text/x-python"
  }
 },
 "nbformat_minor": 4,
 "nbformat": 4,
 "cells": [
  {
   "cell_type": "code",
   "source": "#依赖库安装包-https://www.kaggle.com/datasets/gmhost/mmdetectron-31-wheel",
   "metadata": {},
   "execution_count": null,
   "outputs": []
  },
  {
   "cell_type": "code",
   "source": "!pip install --no-index --no-deps /kaggle/input/mmdetectron-31-wheel/einops-0.6.1-py3-none-any.whl\n!pip install --no-index --no-deps /kaggle/input/mmdetectron-31-wheel/model_index-0.1.11-py3-none-any.whl\n!pip install --no-index --no-deps /kaggle/input/mmdetectron-31-wheel/modelindex-0.0.2-py3-none-any.whl\n!pip install --no-index --no-deps /kaggle/input/mmdetectron-31-wheel/ordered_set-4.1.0-py3-none-any.whl\n!pip install --no-index --no-deps /kaggle/input/mmdetectron-31-wheel/mat4py-0.5.0-py2.py3-none-any.whl",
   "metadata": {
    "execution": {
     "iopub.status.busy": "2023-07-18T13:41:32.213167Z",
     "iopub.execute_input": "2023-07-18T13:41:32.213517Z",
     "iopub.status.idle": "2023-07-18T13:41:43.749040Z",
     "shell.execute_reply.started": "2023-07-18T13:41:32.213486Z",
     "shell.execute_reply": "2023-07-18T13:41:43.747750Z"
    },
    "trusted": true
   },
   "execution_count": null,
   "outputs": []
  },
  {
   "cell_type": "code",
   "source": "!pip install --no-index --no-deps /kaggle/input/mmdetectron-31-wheel/pycocotools-2.0.6-cp310-cp310-linux_x86_64.whl\n!pip install --no-index --no-deps /kaggle/input/mmdetectron-31-wheel/torch-1.12.1+cu116-cp310-cp310-linux_x86_64.whl\n!pip install --no-index --no-deps /kaggle/input/mmdetectron-31-wheel/torchvision-0.13.1+cu116-cp310-cp310-linux_x86_64.whl\n!pip install --no-index --no-deps /kaggle/input/mmdetectron-31-wheel/mmcv-2.0.1-cp310-cp310-manylinux1_x86_64.whl \n!pip install --no-index --no-deps /kaggle/input/mmdetectron-31-wheel/openmim-0.3.9-py2.py3-none-any.whl\n!pip install --no-index --no-deps /kaggle/input/mmdetectron-31-wheel/mmengine-0.8.1-py3-none-any.whl\n!pip install --no-index --no-deps /kaggle/input/mmdetectron-31-wheel/addict-2.4.0-py3-none-any.whl\n!pip install --no-index --no-deps /kaggle/input/mmdetectron-31-wheel/mmpretrain-1.0.0-py2.py3-none-any.whl",
   "metadata": {
    "_kg_hide-input": false,
    "_kg_hide-output": true,
    "execution": {
     "iopub.status.busy": "2023-07-18T13:41:43.752061Z",
     "iopub.execute_input": "2023-07-18T13:41:43.752518Z",
     "iopub.status.idle": "2023-07-18T13:43:37.310705Z",
     "shell.execute_reply.started": "2023-07-18T13:41:43.752478Z",
     "shell.execute_reply": "2023-07-18T13:43:37.309262Z"
    },
    "trusted": true
   },
   "execution_count": null,
   "outputs": []
  },
  {
   "cell_type": "markdown",
   "source": "### Install MMdetection 3.1",
   "metadata": {}
  },
  {
   "cell_type": "code",
   "source": "!git clone https://github.com/open-mmlab/mmdetection.git\n%cd /kaggle/working/mmdetection\n!pip install -v -e .",
   "metadata": {
    "_kg_hide-output": true,
    "execution": {
     "iopub.status.busy": "2023-07-18T13:43:38.414111Z",
     "iopub.execute_input": "2023-07-18T13:43:38.414811Z",
     "iopub.status.idle": "2023-07-18T13:44:07.978175Z",
     "shell.execute_reply.started": "2023-07-18T13:43:38.414776Z",
     "shell.execute_reply": "2023-07-18T13:44:07.976727Z"
    },
    "trusted": true
   },
   "execution_count": null,
   "outputs": []
  },
  {
   "cell_type": "markdown",
   "source": "### Trainig",
   "metadata": {}
  },
  {
   "metadata": {
    "ExecuteTime": {
     "end_time": "2024-09-30T14:43:36.051275Z",
     "start_time": "2024-09-30T14:43:36.042093Z"
    }
   },
   "cell_type": "code",
   "source": "%cd D:\\CodeProject\\mmdetection-main",
   "execution_count": 1,
   "outputs": []
  },
  {
   "cell_type": "code",
   "source": [
    "!set PYTHONPATH=D:\\CodeProject\\mmdetection-main;%PYTHONPATH%\n",
    "!python D:\\CodeProject\\mmdetection-main\\tools\\train.py D:\\CodeProject\\HuBMAP2023\\effb8_config3.py"
   ],
   "metadata": {
    "_kg_hide-output": true,
    "trusted": true,
    "ExecuteTime": {
     "end_time": "2024-09-30T14:59:34.360350Z",
     "start_time": "2024-09-30T14:59:25.964461Z"
    }
   },
   "execution_count": 6,
   "outputs": []
  },
  {
   "cell_type": "code",
   "source": "!python tools/train.py swin_config13.py",
   "metadata": {},
   "execution_count": null,
   "outputs": []
  },
  {
   "cell_type": "code",
   "source": "!python tools/train.py convext_xlarge_config3.py",
   "metadata": {},
   "execution_count": null,
   "outputs": []
  }
 ]
}
